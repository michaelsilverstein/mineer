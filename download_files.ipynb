{
 "cells": [
  {
   "cell_type": "markdown",
   "metadata": {},
   "source": [
    "# Select files\n",
    "Fastqs from PRJNA553551"
   ]
  },
  {
   "cell_type": "code",
   "execution_count": 1,
   "metadata": {},
   "outputs": [],
   "source": [
    "import pandas as pd"
   ]
  },
  {
   "cell_type": "markdown",
   "metadata": {},
   "source": [
    "# Choose samples"
   ]
  },
  {
   "cell_type": "code",
   "execution_count": 2,
   "metadata": {},
   "outputs": [],
   "source": [
    "samples = pd.read_csv('SraRunTable.txt').sort_values('Bases').Run.head(10).unique()\n",
    "with open('SRAs.txt', 'w') as fh:\n",
    "    fh.write('\\n'.join(samples)+'\\n')"
   ]
  },
  {
   "cell_type": "code",
   "execution_count": 14,
   "metadata": {},
   "outputs": [
    {
     "name": "stdout",
     "output_type": "stream",
     "text": [
      "\n",
      "2021-07-14T20:14:46 prefetch.2.8.0: 1) Downloading 'SRR9660346'...\n",
      "2021-07-14T20:14:46 prefetch.2.8.0:  Downloading via http...\n",
      "2021-07-14T20:14:46 prefetch.2.8.0: 1) 'SRR9660346' was downloaded successfully\n",
      "2021-07-14T20:14:46 prefetch.2.8.0: 'SRR9660346' has 0 unresolved dependencies\n",
      "\n",
      "2021-07-14T20:14:46 prefetch.2.8.0: 2) Downloading 'SRR9660368'...\n",
      "2021-07-14T20:14:46 prefetch.2.8.0:  Downloading via http...\n",
      "2021-07-14T20:14:46 prefetch.2.8.0: 2) 'SRR9660368' was downloaded successfully\n",
      "2021-07-14T20:14:46 prefetch.2.8.0: 'SRR9660368' has 0 unresolved dependencies\n",
      "\n",
      "2021-07-14T20:14:47 prefetch.2.8.0: 3) Downloading 'SRR9660375'...\n",
      "2021-07-14T20:14:47 prefetch.2.8.0:  Downloading via http...\n",
      "2021-07-14T20:14:47 prefetch.2.8.0: 3) 'SRR9660375' was downloaded successfully\n",
      "2021-07-14T20:14:47 prefetch.2.8.0: 'SRR9660375' has 0 unresolved dependencies\n",
      "\n",
      "2021-07-14T20:14:47 prefetch.2.8.0: 4) Downloading 'SRR9660380'...\n",
      "2021-07-14T20:14:47 prefetch.2.8.0:  Downloading via http...\n",
      "2021-07-14T20:14:47 prefetch.2.8.0: 4) 'SRR9660380' was downloaded successfully\n",
      "2021-07-14T20:14:47 prefetch.2.8.0: 'SRR9660380' has 0 unresolved dependencies\n",
      "\n",
      "2021-07-14T20:14:48 prefetch.2.8.0: 5) Downloading 'SRR9660372'...\n",
      "2021-07-14T20:14:48 prefetch.2.8.0:  Downloading via http...\n",
      "2021-07-14T20:14:48 prefetch.2.8.0: 5) 'SRR9660372' was downloaded successfully\n",
      "2021-07-14T20:14:48 prefetch.2.8.0: 'SRR9660372' has 0 unresolved dependencies\n",
      "\n",
      "2021-07-14T20:14:48 prefetch.2.8.0: 6) Downloading 'SRR9660321'...\n",
      "2021-07-14T20:14:48 prefetch.2.8.0:  Downloading via http...\n",
      "2021-07-14T20:14:48 prefetch.2.8.0: 6) 'SRR9660321' was downloaded successfully\n",
      "2021-07-14T20:14:48 prefetch.2.8.0: 'SRR9660321' has 0 unresolved dependencies\n",
      "\n",
      "2021-07-14T20:14:49 prefetch.2.8.0: 7) Downloading 'SRR9660322'...\n",
      "2021-07-14T20:14:49 prefetch.2.8.0:  Downloading via http...\n",
      "2021-07-14T20:14:49 prefetch.2.8.0: 7) 'SRR9660322' was downloaded successfully\n",
      "2021-07-14T20:14:49 prefetch.2.8.0: 'SRR9660322' has 0 unresolved dependencies\n",
      "\n",
      "2021-07-14T20:14:49 prefetch.2.8.0: 8) Downloading 'SRR9660307'...\n",
      "2021-07-14T20:14:49 prefetch.2.8.0:  Downloading via http...\n",
      "2021-07-14T20:14:50 prefetch.2.8.0: 8) 'SRR9660307' was downloaded successfully\n",
      "2021-07-14T20:14:50 prefetch.2.8.0: 'SRR9660307' has 0 unresolved dependencies\n",
      "\n",
      "2021-07-14T20:14:50 prefetch.2.8.0: 9) Downloading 'SRR9660387'...\n",
      "2021-07-14T20:14:50 prefetch.2.8.0:  Downloading via http...\n",
      "2021-07-14T20:14:51 prefetch.2.8.0: 9) 'SRR9660387' was downloaded successfully\n",
      "2021-07-14T20:14:51 prefetch.2.8.0: 'SRR9660387' has 0 unresolved dependencies\n",
      "\n",
      "2021-07-14T20:14:51 prefetch.2.8.0: 10) Downloading 'SRR9660385'...\n",
      "2021-07-14T20:14:51 prefetch.2.8.0:  Downloading via http...\n",
      "2021-07-14T20:14:52 prefetch.2.8.0: 10) 'SRR9660385' was downloaded successfully\n",
      "2021-07-14T20:14:52 prefetch.2.8.0: 'SRR9660385' has 0 unresolved dependencies\n"
     ]
    }
   ],
   "source": [
    "!prefetch $(cat SRAs.txt)"
   ]
  },
  {
   "cell_type": "code",
   "execution_count": 10,
   "metadata": {},
   "outputs": [
    {
     "name": "stdout",
     "output_type": "stream",
     "text": [
      "\n",
      "2021-07-15T23:56:03 prefetch.2.11.0: 'SRR9660346' is a local non-kart file\n",
      "2021-07-15T23:56:03 prefetch.2.11.0: 'SRR9660346' has 0 unresolved dependencies\n",
      "\n",
      "2021-07-15T23:56:04 prefetch.2.11.0: 2) Downloading 'SRR9660368'...\n",
      "2021-07-15T23:56:04 prefetch.2.11.0:  Downloading via HTTPS...\n",
      "2021-07-15T23:56:05 prefetch.2.11.0:  HTTPS download succeed\n",
      "2021-07-15T23:56:05 prefetch.2.11.0:   verifying 'SRR9660368'...\n",
      "2021-07-15T23:56:05 prefetch.2.11.0:  'SRR9660368' is valid\n",
      "2021-07-15T23:56:05 prefetch.2.11.0: 2) 'SRR9660368' was downloaded successfully\n",
      "2021-07-15T23:56:05 prefetch.2.11.0: 'SRR9660368' has 0 unresolved dependencies\n",
      "\n",
      "2021-07-15T23:56:05 prefetch.2.11.0: 3) Downloading 'SRR9660375'...\n",
      "2021-07-15T23:56:05 prefetch.2.11.0:  Downloading via HTTPS...\n",
      "2021-07-15T23:56:06 prefetch.2.11.0:  HTTPS download succeed\n",
      "2021-07-15T23:56:06 prefetch.2.11.0:   verifying 'SRR9660375'...\n",
      "2021-07-15T23:56:06 prefetch.2.11.0:  'SRR9660375' is valid\n",
      "2021-07-15T23:56:06 prefetch.2.11.0: 3) 'SRR9660375' was downloaded successfully\n",
      "2021-07-15T23:56:06 prefetch.2.11.0: 'SRR9660375' has 0 unresolved dependencies\n",
      "\n",
      "2021-07-15T23:56:07 prefetch.2.11.0: 4) Downloading 'SRR9660380'...\n",
      "2021-07-15T23:56:07 prefetch.2.11.0:  Downloading via HTTPS...\n",
      "2021-07-15T23:56:08 prefetch.2.11.0:  HTTPS download succeed\n",
      "2021-07-15T23:56:08 prefetch.2.11.0:   verifying 'SRR9660380'...\n",
      "2021-07-15T23:56:08 prefetch.2.11.0:  'SRR9660380' is valid\n",
      "2021-07-15T23:56:08 prefetch.2.11.0: 4) 'SRR9660380' was downloaded successfully\n",
      "2021-07-15T23:56:08 prefetch.2.11.0: 'SRR9660380' has 0 unresolved dependencies\n",
      "\n",
      "2021-07-15T23:56:09 prefetch.2.11.0: 5) Downloading 'SRR9660372'...\n",
      "2021-07-15T23:56:09 prefetch.2.11.0:  Downloading via HTTPS...\n",
      "2021-07-15T23:56:10 prefetch.2.11.0:  HTTPS download succeed\n",
      "2021-07-15T23:56:10 prefetch.2.11.0:   verifying 'SRR9660372'...\n",
      "2021-07-15T23:56:10 prefetch.2.11.0:  'SRR9660372' is valid\n",
      "2021-07-15T23:56:10 prefetch.2.11.0: 5) 'SRR9660372' was downloaded successfully\n",
      "2021-07-15T23:56:10 prefetch.2.11.0: 'SRR9660372' has 0 unresolved dependencies\n",
      "\n",
      "2021-07-15T23:56:10 prefetch.2.11.0: 6) Downloading 'SRR9660321'...\n",
      "2021-07-15T23:56:10 prefetch.2.11.0:  Downloading via HTTPS...\n",
      "2021-07-15T23:56:12 prefetch.2.11.0:  HTTPS download succeed\n",
      "2021-07-15T23:56:12 prefetch.2.11.0:   verifying 'SRR9660321'...\n",
      "2021-07-15T23:56:12 prefetch.2.11.0:  'SRR9660321' is valid\n",
      "2021-07-15T23:56:12 prefetch.2.11.0: 6) 'SRR9660321' was downloaded successfully\n",
      "2021-07-15T23:56:12 prefetch.2.11.0: 'SRR9660321' has 0 unresolved dependencies\n",
      "\n",
      "2021-07-15T23:56:12 prefetch.2.11.0: 7) Downloading 'SRR9660322'...\n",
      "2021-07-15T23:56:12 prefetch.2.11.0:  Downloading via HTTPS...\n",
      "2021-07-15T23:56:14 prefetch.2.11.0:  HTTPS download succeed\n",
      "2021-07-15T23:56:14 prefetch.2.11.0:   verifying 'SRR9660322'...\n",
      "2021-07-15T23:56:14 prefetch.2.11.0:  'SRR9660322' is valid\n",
      "2021-07-15T23:56:14 prefetch.2.11.0: 7) 'SRR9660322' was downloaded successfully\n",
      "2021-07-15T23:56:14 prefetch.2.11.0: 'SRR9660322' has 0 unresolved dependencies\n",
      "\n",
      "2021-07-15T23:56:15 prefetch.2.11.0: 8) Downloading 'SRR9660307'...\n",
      "2021-07-15T23:56:15 prefetch.2.11.0:  Downloading via HTTPS...\n",
      "2021-07-15T23:56:16 prefetch.2.11.0:  HTTPS download succeed\n",
      "2021-07-15T23:56:16 prefetch.2.11.0:   verifying 'SRR9660307'...\n",
      "2021-07-15T23:56:16 prefetch.2.11.0:  'SRR9660307' is valid\n",
      "2021-07-15T23:56:16 prefetch.2.11.0: 8) 'SRR9660307' was downloaded successfully\n",
      "2021-07-15T23:56:16 prefetch.2.11.0: 'SRR9660307' has 0 unresolved dependencies\n",
      "\n",
      "2021-07-15T23:56:17 prefetch.2.11.0: 9) Downloading 'SRR9660387'...\n",
      "2021-07-15T23:56:17 prefetch.2.11.0:  Downloading via HTTPS...\n",
      "2021-07-15T23:56:18 prefetch.2.11.0:  HTTPS download succeed\n",
      "2021-07-15T23:56:18 prefetch.2.11.0:   verifying 'SRR9660387'...\n",
      "2021-07-15T23:56:18 prefetch.2.11.0:  'SRR9660387' is valid\n",
      "2021-07-15T23:56:18 prefetch.2.11.0: 9) 'SRR9660387' was downloaded successfully\n",
      "2021-07-15T23:56:18 prefetch.2.11.0: 'SRR9660387' has 0 unresolved dependencies\n",
      "\n",
      "2021-07-15T23:56:18 prefetch.2.11.0: 10) Downloading 'SRR9660385'...\n",
      "2021-07-15T23:56:18 prefetch.2.11.0:  Downloading via HTTPS...\n",
      "2021-07-15T23:56:20 prefetch.2.11.0:  HTTPS download succeed\n",
      "2021-07-15T23:56:20 prefetch.2.11.0:   verifying 'SRR9660385'...\n",
      "2021-07-15T23:56:20 prefetch.2.11.0:  'SRR9660385' is valid\n",
      "2021-07-15T23:56:20 prefetch.2.11.0: 10) 'SRR9660385' was downloaded successfully\n",
      "2021-07-15T23:56:20 prefetch.2.11.0: 'SRR9660385' has 0 unresolved dependencies\n"
     ]
    }
   ],
   "source": [
    "# Windows\n",
    "!C:\\Users\\Michael\\Desktop\\sratoolkit.2.11.0-win64\\bin\\prefetch.exe SRR9660346 SRR9660368 SRR9660375 SRR9660380 SRR9660372 SRR9660321 SRR9660322 SRR9660307 SRR9660387 SRR9660385"
   ]
  },
  {
   "cell_type": "code",
   "execution_count": 11,
   "metadata": {},
   "outputs": [
    {
     "name": "stderr",
     "output_type": "stream",
     "text": [
      "'fastq-dump' is not recognized as an internal or external command,\n",
      "operable program or batch file.\n"
     ]
    }
   ],
   "source": [
    "!fastq-dump $(cat SRAs.txt) --split-files --gzip -O fastqs/"
   ]
  },
  {
   "cell_type": "code",
   "execution_count": 14,
   "metadata": {},
   "outputs": [
    {
     "name": "stdout",
     "output_type": "stream",
     "text": [
      "Read 365 spots for SRR9660346\n",
      "Written 365 spots for SRR9660346\n",
      "Read 883 spots for SRR9660368\n",
      "Written 883 spots for SRR9660368\n",
      "Read 2589 spots for SRR9660375\n",
      "Written 2589 spots for SRR9660375\n",
      "Read 2660 spots for SRR9660380\n",
      "Written 2660 spots for SRR9660380\n",
      "Read 2755 spots for SRR9660372\n",
      "Written 2755 spots for SRR9660372\n",
      "Read 3115 spots for SRR9660321\n",
      "Written 3115 spots for SRR9660321\n",
      "Read 3910 spots for SRR9660322\n",
      "Written 3910 spots for SRR9660322\n",
      "Read 4108 spots for SRR9660307\n",
      "Written 4108 spots for SRR9660307\n",
      "Read 4222 spots for SRR9660387\n",
      "Written 4222 spots for SRR9660387\n",
      "Read 5072 spots for SRR9660385\n",
      "Written 5072 spots for SRR9660385\n"
     ]
    }
   ],
   "source": [
    "# Windows\n",
    "!C:\\Users\\Michael\\Desktop\\sratoolkit.2.11.0-win64\\bin\\fastq-dump.exe SRR9660346 SRR9660368 SRR9660375 SRR9660380 SRR9660372 SRR9660321 SRR9660322 SRR9660307 SRR9660387 SRR9660385 --split-files -O fastqs/"
   ]
  }
 ],
 "metadata": {
  "kernelspec": {
   "display_name": "Python 3",
   "language": "python",
   "name": "python3"
  },
  "language_info": {
   "codemirror_mode": {
    "name": "ipython",
    "version": 3
   },
   "file_extension": ".py",
   "mimetype": "text/x-python",
   "name": "python",
   "nbconvert_exporter": "python",
   "pygments_lexer": "ipython3",
   "version": "3.7.6"
  }
 },
 "nbformat": 4,
 "nbformat_minor": 5
}
