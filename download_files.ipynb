{
 "cells": [
  {
   "cell_type": "markdown",
   "id": "36011755-2583-45eb-96b8-fbd1599f3052",
   "metadata": {},
   "source": [
    "# Select files\n",
    "Fastqs from PRJNA553551"
   ]
  },
  {
   "cell_type": "code",
   "execution_count": 3,
   "id": "32437e76-584e-40dc-9df9-27e84f8f03b9",
   "metadata": {},
   "outputs": [],
   "source": [
    "import pandas as pd"
   ]
  },
  {
   "cell_type": "markdown",
   "id": "e60b4b15-cfe7-4fa8-b89e-720b315dfbd2",
   "metadata": {},
   "source": [
    "# Choose samples"
   ]
  },
  {
   "cell_type": "code",
   "execution_count": 12,
   "id": "1a9845aa-fe9c-4ed9-a4ec-8ffe51bdd076",
   "metadata": {},
   "outputs": [],
   "source": [
    "samples = pd.read_csv('SraRunTable.txt').sort_values('Bases').Run.head(10).unique()\n",
    "with open('SRAs.txt', 'w') as fh:\n",
    "    fh.write('\\n'.join(samples)+'\\n')"
   ]
  },
  {
   "cell_type": "code",
   "execution_count": 14,
   "id": "06711570-e025-4275-a7ea-416fcbd6653a",
   "metadata": {},
   "outputs": [
    {
     "name": "stdout",
     "output_type": "stream",
     "text": [
      "\n",
      "2021-07-14T20:14:46 prefetch.2.8.0: 1) Downloading 'SRR9660346'...\n",
      "2021-07-14T20:14:46 prefetch.2.8.0:  Downloading via http...\n",
      "2021-07-14T20:14:46 prefetch.2.8.0: 1) 'SRR9660346' was downloaded successfully\n",
      "2021-07-14T20:14:46 prefetch.2.8.0: 'SRR9660346' has 0 unresolved dependencies\n",
      "\n",
      "2021-07-14T20:14:46 prefetch.2.8.0: 2) Downloading 'SRR9660368'...\n",
      "2021-07-14T20:14:46 prefetch.2.8.0:  Downloading via http...\n",
      "2021-07-14T20:14:46 prefetch.2.8.0: 2) 'SRR9660368' was downloaded successfully\n",
      "2021-07-14T20:14:46 prefetch.2.8.0: 'SRR9660368' has 0 unresolved dependencies\n",
      "\n",
      "2021-07-14T20:14:47 prefetch.2.8.0: 3) Downloading 'SRR9660375'...\n",
      "2021-07-14T20:14:47 prefetch.2.8.0:  Downloading via http...\n",
      "2021-07-14T20:14:47 prefetch.2.8.0: 3) 'SRR9660375' was downloaded successfully\n",
      "2021-07-14T20:14:47 prefetch.2.8.0: 'SRR9660375' has 0 unresolved dependencies\n",
      "\n",
      "2021-07-14T20:14:47 prefetch.2.8.0: 4) Downloading 'SRR9660380'...\n",
      "2021-07-14T20:14:47 prefetch.2.8.0:  Downloading via http...\n",
      "2021-07-14T20:14:47 prefetch.2.8.0: 4) 'SRR9660380' was downloaded successfully\n",
      "2021-07-14T20:14:47 prefetch.2.8.0: 'SRR9660380' has 0 unresolved dependencies\n",
      "\n",
      "2021-07-14T20:14:48 prefetch.2.8.0: 5) Downloading 'SRR9660372'...\n",
      "2021-07-14T20:14:48 prefetch.2.8.0:  Downloading via http...\n",
      "2021-07-14T20:14:48 prefetch.2.8.0: 5) 'SRR9660372' was downloaded successfully\n",
      "2021-07-14T20:14:48 prefetch.2.8.0: 'SRR9660372' has 0 unresolved dependencies\n",
      "\n",
      "2021-07-14T20:14:48 prefetch.2.8.0: 6) Downloading 'SRR9660321'...\n",
      "2021-07-14T20:14:48 prefetch.2.8.0:  Downloading via http...\n",
      "2021-07-14T20:14:48 prefetch.2.8.0: 6) 'SRR9660321' was downloaded successfully\n",
      "2021-07-14T20:14:48 prefetch.2.8.0: 'SRR9660321' has 0 unresolved dependencies\n",
      "\n",
      "2021-07-14T20:14:49 prefetch.2.8.0: 7) Downloading 'SRR9660322'...\n",
      "2021-07-14T20:14:49 prefetch.2.8.0:  Downloading via http...\n",
      "2021-07-14T20:14:49 prefetch.2.8.0: 7) 'SRR9660322' was downloaded successfully\n",
      "2021-07-14T20:14:49 prefetch.2.8.0: 'SRR9660322' has 0 unresolved dependencies\n",
      "\n",
      "2021-07-14T20:14:49 prefetch.2.8.0: 8) Downloading 'SRR9660307'...\n",
      "2021-07-14T20:14:49 prefetch.2.8.0:  Downloading via http...\n",
      "2021-07-14T20:14:50 prefetch.2.8.0: 8) 'SRR9660307' was downloaded successfully\n",
      "2021-07-14T20:14:50 prefetch.2.8.0: 'SRR9660307' has 0 unresolved dependencies\n",
      "\n",
      "2021-07-14T20:14:50 prefetch.2.8.0: 9) Downloading 'SRR9660387'...\n",
      "2021-07-14T20:14:50 prefetch.2.8.0:  Downloading via http...\n",
      "2021-07-14T20:14:51 prefetch.2.8.0: 9) 'SRR9660387' was downloaded successfully\n",
      "2021-07-14T20:14:51 prefetch.2.8.0: 'SRR9660387' has 0 unresolved dependencies\n",
      "\n",
      "2021-07-14T20:14:51 prefetch.2.8.0: 10) Downloading 'SRR9660385'...\n",
      "2021-07-14T20:14:51 prefetch.2.8.0:  Downloading via http...\n",
      "2021-07-14T20:14:52 prefetch.2.8.0: 10) 'SRR9660385' was downloaded successfully\n",
      "2021-07-14T20:14:52 prefetch.2.8.0: 'SRR9660385' has 0 unresolved dependencies\n"
     ]
    }
   ],
   "source": [
    "!prefetch $(cat SRAs.txt)"
   ]
  },
  {
   "cell_type": "code",
   "execution_count": 17,
   "id": "48a6d838-0af1-486a-8b7d-d164d2136a13",
   "metadata": {},
   "outputs": [
    {
     "name": "stdout",
     "output_type": "stream",
     "text": [
      "Read 365 spots for SRR9660346\n",
      "Written 365 spots for SRR9660346\n",
      "Read 883 spots for SRR9660368\n",
      "Written 883 spots for SRR9660368\n",
      "Read 2589 spots for SRR9660375\n",
      "Written 2589 spots for SRR9660375\n",
      "Read 2660 spots for SRR9660380\n",
      "Written 2660 spots for SRR9660380\n",
      "Read 2755 spots for SRR9660372\n",
      "Written 2755 spots for SRR9660372\n",
      "Read 3115 spots for SRR9660321\n",
      "Written 3115 spots for SRR9660321\n",
      "Read 3910 spots for SRR9660322\n",
      "Written 3910 spots for SRR9660322\n",
      "Read 4108 spots for SRR9660307\n",
      "Written 4108 spots for SRR9660307\n",
      "Read 4222 spots for SRR9660387\n",
      "Written 4222 spots for SRR9660387\n",
      "Read 5072 spots for SRR9660385\n",
      "Written 5072 spots for SRR9660385\n",
      "Read 29679 spots total\n",
      "Written 29679 spots total\n"
     ]
    }
   ],
   "source": [
    "!fastq-dump $(cat SRAs.txt) --split-files --gzip -O fastqs/"
   ]
  }
 ],
 "metadata": {
  "kernelspec": {
   "display_name": "Python 3",
   "language": "python",
   "name": "python3"
  },
  "language_info": {
   "codemirror_mode": {
    "name": "ipython",
    "version": 3
   },
   "file_extension": ".py",
   "mimetype": "text/x-python",
   "name": "python",
   "nbconvert_exporter": "python",
   "pygments_lexer": "ipython3",
   "version": "3.8.10"
  }
 },
 "nbformat": 4,
 "nbformat_minor": 5
}
