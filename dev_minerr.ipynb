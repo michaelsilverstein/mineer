{
 "cells": [
  {
   "cell_type": "markdown",
   "id": "4912ef81-9540-40d6-ad2b-1672d82368ba",
   "metadata": {},
   "source": [
    "# Develop minERR"
   ]
  },
  {
   "cell_type": "code",
   "execution_count": 1,
   "id": "3ac294c4-7e3f-46b3-9837-342fd531d840",
   "metadata": {},
   "outputs": [],
   "source": [
    "from Bio import SeqIO, SeqRecord\n",
    "import gzip\n",
    "from mineer.mineer import Read"
   ]
  },
  {
   "cell_type": "code",
   "execution_count": 2,
   "id": "3a5eabaf-45fa-4169-8602-f0c709171fae",
   "metadata": {},
   "outputs": [],
   "source": [
    "file = 'fastqs/SRR9660307_1.fastq.gz'\n",
    "with gzip.open(file, 'rt') as fh:\n",
    "    reads = [Read(r) for r in SeqIO.parse(fh, 'fastq')]"
   ]
  },
  {
   "cell_type": "code",
   "execution_count": 3,
   "id": "3a33fbe8-6995-4da5-89aa-eeb05db54df9",
   "metadata": {},
   "outputs": [
    {
     "name": "stdout",
     "output_type": "stream",
     "text": [
      "CPU times: user 859 ms, sys: 10.6 ms, total: 870 ms\n",
      "Wall time: 871 ms\n"
     ]
    }
   ],
   "source": [
    "%%time\n",
    "for r in reads[:500]:\n",
    "    r.trim()"
   ]
  }
 ],
 "metadata": {
  "kernelspec": {
   "display_name": "Python 3",
   "language": "python",
   "name": "python3"
  },
  "language_info": {
   "codemirror_mode": {
    "name": "ipython",
    "version": 3
   },
   "file_extension": ".py",
   "mimetype": "text/x-python",
   "name": "python",
   "nbconvert_exporter": "python",
   "pygments_lexer": "ipython3",
   "version": "3.8.10"
  }
 },
 "nbformat": 4,
 "nbformat_minor": 5
}
