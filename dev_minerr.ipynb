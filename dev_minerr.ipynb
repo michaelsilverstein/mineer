{
 "cells": [
  {
   "cell_type": "markdown",
   "id": "4912ef81-9540-40d6-ad2b-1672d82368ba",
   "metadata": {},
   "source": [
    "# Develop minERR"
   ]
  },
  {
   "cell_type": "code",
   "execution_count": 1,
   "id": "3ac294c4-7e3f-46b3-9837-342fd531d840",
   "metadata": {},
   "outputs": [],
   "source": [
    "from Bio import SeqIO, SeqRecord\n",
    "from mineer.pipeline import Project\n",
    "from mineer.utils import File, Sample, ReadPair\n",
    "from mineer.mineer import minEER\n",
    "from glob import glob\n",
    "import numpy as np\n",
    "import os, random\n",
    "import matplotlib.pyplot as plt\n",
    "import seaborn as sns\n",
    "import pandas as pd\n",
    "from numba import jit"
   ]
  },
  {
   "cell_type": "markdown",
   "id": "844b3493-57f4-4bf2-ba67-1114245ebe5a",
   "metadata": {},
   "source": [
    "# Inputs"
   ]
  },
  {
   "cell_type": "code",
   "execution_count": 2,
   "id": "709b869a-325f-47c2-a64f-b97f82c18de7",
   "metadata": {},
   "outputs": [
    {
     "data": {
      "text/plain": [
       "['fastqs/SRR9660307_1.fastq',\n",
       " 'fastqs/SRR9660307_2.fastq',\n",
       " 'fastqs/SRR9660321_1.fastq',\n",
       " 'fastqs/SRR9660321_2.fastq']"
      ]
     },
     "execution_count": 2,
     "metadata": {},
     "output_type": "execute_result"
    }
   ],
   "source": [
    "filepaths = sorted(glob('fastqs/*'))[:4]\n",
    "fwd_format = '_1.fastq'\n",
    "rev_format = '_2.fastq'\n",
    "mal = 100\n",
    "mae = 1e-2\n",
    "nreads = 5000\n",
    "filepaths"
   ]
  },
  {
   "cell_type": "code",
   "execution_count": 4,
   "id": "48ce06cc-0efb-4caa-beea-b00ed6608dff",
   "metadata": {},
   "outputs": [],
   "source": [
    "import numba"
   ]
  },
  {
   "cell_type": "code",
   "execution_count": null,
   "id": "094c8e4b-da00-4132-b322-a95ca1384dd6",
   "metadata": {},
   "outputs": [],
   "source": [
    "numba.config."
   ]
  },
  {
   "cell_type": "code",
   "execution_count": 3,
   "id": "6c2e2ae8-33cb-40b0-99c6-60c6fdaf4fb9",
   "metadata": {},
   "outputs": [
    {
     "name": "stdout",
     "output_type": "stream",
     "text": [
      "Creating project...\n",
      "Ingesting reads...\n",
      "Subsetting reads...\n",
      "Running minEER on subset...\n",
      "Calculating global truncation positions...\n",
      "Truncating files to global positions...\n",
      "Saving truncated files...\n"
     ]
    }
   ],
   "source": [
    "# Create project\n",
    "print('Creating project...')\n",
    "project = Project(filepaths, fwd_format, rev_format, nreads, mal, mae, outdir='truncated')\n",
    "# 1) Ingest reads\n",
    "print('Ingesting reads...')\n",
    "project.getReadsandSamples()\n",
    "# 2) Subsample\n",
    "print('Subsetting reads...')\n",
    "project.sampleReads()\n",
    "read_subset = project.all_sub\n",
    "# 3) Run minEER on subset\n",
    "print('Running minEER on subset...')\n",
    "project.mineerReads(read_subset)\n",
    "# 4) Determine global truncation positions\n",
    "print('Calculating global truncation positions...')\n",
    "project.calcPos()\n",
    "# 5) Truncate all reads to global positions and filter out read pairs that don't pass QC\n",
    "print('Truncating files to global positions...')\n",
    "project.truncAndFilter()\n",
    "# # 6) Save truncated sequences\n",
    "print('Saving truncated files...')\n",
    "project.writeFiles()"
   ]
  },
  {
   "cell_type": "code",
   "execution_count": 12,
   "id": "bd6c0095-42b5-4258-b158-1860072298af",
   "metadata": {},
   "outputs": [
    {
     "data": {
      "text/plain": [
       "7223"
      ]
     },
     "execution_count": 12,
     "metadata": {},
     "output_type": "execute_result"
    }
   ],
   "source": [
    "len(project.rev_reads)"
   ]
  },
  {
   "cell_type": "code",
   "execution_count": 9,
   "id": "2597d3b7-48fe-4abc-b570-e71f5166de48",
   "metadata": {},
   "outputs": [
    {
     "data": {
      "text/plain": [
       "3247"
      ]
     },
     "execution_count": 9,
     "metadata": {},
     "output_type": "execute_result"
    }
   ],
   "source": [
    "len(project.passing_readpairs)"
   ]
  },
  {
   "cell_type": "code",
   "execution_count": 23,
   "id": "f6eaec9a-d650-4f3e-b411-080317c760c5",
   "metadata": {},
   "outputs": [
    {
     "data": {
      "text/plain": [
       "(0, 254)"
      ]
     },
     "execution_count": 23,
     "metadata": {},
     "output_type": "execute_result"
    }
   ],
   "source": [
    "trimstart, trimend = map(int, project.fwd_pos)\n",
    "trimstart, trimend"
   ]
  },
  {
   "cell_type": "code",
   "execution_count": 17,
   "id": "5f8b430a-324a-4c99-a944-b53d400aeb33",
   "metadata": {},
   "outputs": [
    {
     "data": {
      "text/plain": [
       "False"
      ]
     },
     "execution_count": 17,
     "metadata": {},
     "output_type": "execute_result"
    }
   ],
   "source": [
    "(0, 20) == 'a'"
   ]
  },
  {
   "cell_type": "code",
   "execution_count": 14,
   "id": "a7abb8e3-e452-4202-860f-e0f7f4246e58",
   "metadata": {},
   "outputs": [],
   "source": [
    "project = Project(filepaths, fwd_format, rev_format, nreads, outdir='truncated')"
   ]
  },
  {
   "cell_type": "code",
   "execution_count": 15,
   "id": "536a18e0-8a31-4d03-a5f2-56c8ce18ecc4",
   "metadata": {},
   "outputs": [
    {
     "name": "stdout",
     "output_type": "stream",
     "text": [
      "Ingesting reads...\n",
      "Subsetting reads...\n"
     ]
    }
   ],
   "source": [
    "print('Ingesting reads...')\n",
    "project.getReads()\n",
    "# 2) Subsample\n",
    "print('Subsetting reads...')\n",
    "project.sampleReads()"
   ]
  },
  {
   "cell_type": "code",
   "execution_count": 13,
   "id": "26f588a6-fe35-4e64-b3c2-459675a5adec",
   "metadata": {},
   "outputs": [
    {
     "data": {
      "text/plain": [
       "10000"
      ]
     },
     "execution_count": 13,
     "metadata": {},
     "output_type": "execute_result"
    }
   ],
   "source": [
    "project.nreads"
   ]
  },
  {
   "cell_type": "code",
   "execution_count": 10,
   "id": "c6558d77-5079-4c64-9781-03ed0434512d",
   "metadata": {},
   "outputs": [
    {
     "data": {
      "text/plain": [
       "(7223, 7223)"
      ]
     },
     "execution_count": 10,
     "metadata": {},
     "output_type": "execute_result"
    }
   ],
   "source": [
    "len(project.fwd_reads), len(project.rev_reads)"
   ]
  },
  {
   "cell_type": "code",
   "execution_count": 11,
   "id": "11735132-7f61-4ed4-90ff-2a0681133c6c",
   "metadata": {},
   "outputs": [
    {
     "name": "stdout",
     "output_type": "stream",
     "text": [
      "CPU times: user 16.3 s, sys: 96.8 ms, total: 16.4 s\n",
      "Wall time: 16.4 s\n"
     ]
    }
   ],
   "source": [
    "%%time\n",
    "# Create project\n",
    "project = Project(filepaths, fwd_format, rev_format, nreads, mal, mae)\n",
    "# 1) Ingest reads\n",
    "project.getReads()\n",
    "# 2) Subsample\n",
    "project.sampleReads()\n",
    "# 3) Truncate reads\n",
    "for r in project.all_sub:\n",
    "    r.trim()"
   ]
  },
  {
   "cell_type": "code",
   "execution_count": 15,
   "id": "e1ce0e48-2bbf-4045-a158-69ce116b0d32",
   "metadata": {},
   "outputs": [],
   "source": [
    "fwd_trimpos = np.array([r.trimpos for r in project.fwd_sub if r.pass_qc])\n",
    "rev_trimpos = np.array([r.trimpos for r in project.rev_sub if r.pass_qc])"
   ]
  },
  {
   "cell_type": "code",
   "execution_count": 22,
   "id": "c940e906-1e44-40cf-b710-1233df55c8a7",
   "metadata": {},
   "outputs": [
    {
     "data": {
      "text/plain": [
       "array([  0., 131.])"
      ]
     },
     "execution_count": 22,
     "metadata": {},
     "output_type": "execute_result"
    }
   ],
   "source": [
    "np.median([r.trimpos for r in project.rev_sub if r.pass_qc], 0)"
   ]
  },
  {
   "cell_type": "code",
   "execution_count": 20,
   "id": "37fa60d3-5cbc-4a8b-a946-d61d8ad03bc9",
   "metadata": {},
   "outputs": [
    {
     "data": {
      "text/plain": [
       "0.8154"
      ]
     },
     "execution_count": 20,
     "metadata": {},
     "output_type": "execute_result"
    }
   ],
   "source": [
    "np.mean([r.pass_qc for r in project.fwd_sub])"
   ]
  },
  {
   "cell_type": "code",
   "execution_count": 21,
   "id": "67959ce8-03c3-44f2-84d9-21ad2768215e",
   "metadata": {},
   "outputs": [
    {
     "data": {
      "text/plain": [
       "0.0908"
      ]
     },
     "execution_count": 21,
     "metadata": {},
     "output_type": "execute_result"
    }
   ],
   "source": [
    "np.mean([r.pass_qc for r in project.rev_sub])"
   ]
  },
  {
   "cell_type": "code",
   "execution_count": 28,
   "id": "26abafdf-adf1-4bdb-b543-1fe33eaa3c3a",
   "metadata": {},
   "outputs": [],
   "source": [
    "f = project.files[0]"
   ]
  },
  {
   "cell_type": "code",
   "execution_count": 35,
   "id": "9e06066d-26c1-4b49-80ff-3400c43b68ee",
   "metadata": {},
   "outputs": [
    {
     "data": {
      "text/plain": [
       "'fastqs/SRR9660346_1.fastq'"
      ]
     },
     "execution_count": 35,
     "metadata": {},
     "output_type": "execute_result"
    }
   ],
   "source": [
    "f.filepath"
   ]
  },
  {
   "cell_type": "code",
   "execution_count": 36,
   "id": "6b7c703e-4092-45bc-9028-cd3ead22ca2f",
   "metadata": {},
   "outputs": [
    {
     "data": {
      "text/plain": [
       "False"
      ]
     },
     "execution_count": 36,
     "metadata": {},
     "output_type": "execute_result"
    }
   ],
   "source": [
    "os.path.isdir('truncated')"
   ]
  },
  {
   "cell_type": "code",
   "execution_count": 46,
   "id": "73127f03-d492-4b99-9056-458e9d158a86",
   "metadata": {},
   "outputs": [
    {
     "data": {
      "text/plain": [
       "True"
      ]
     },
     "execution_count": 46,
     "metadata": {},
     "output_type": "execute_result"
    }
   ],
   "source": [
    "bool(project.fwd_sub[0].trimmed)"
   ]
  },
  {
   "cell_type": "code",
   "execution_count": 48,
   "id": "4054f9bf-7407-4421-9927-7ed6f1ca412b",
   "metadata": {},
   "outputs": [
    {
     "data": {
      "text/plain": [
       "59358"
      ]
     },
     "execution_count": 48,
     "metadata": {},
     "output_type": "execute_result"
    }
   ],
   "source": [
    "len(project.fwd_reads) + len(project.rev_reads)"
   ]
  },
  {
   "cell_type": "markdown",
   "id": "bf5a3e73-94d8-40d0-9455-e12d2860dda0",
   "metadata": {},
   "source": [
    "# Process"
   ]
  },
  {
   "cell_type": "code",
   "execution_count": 5,
   "id": "3a5eabaf-45fa-4169-8602-f0c709171fae",
   "metadata": {},
   "outputs": [
    {
     "name": "stdout",
     "output_type": "stream",
     "text": [
      "CPU times: user 19.3 s, sys: 215 ms, total: 19.5 s\n",
      "Wall time: 19.6 s\n"
     ]
    }
   ],
   "source": [
    "%%time\n",
    "\"\"\"Ingest files\"\"\"\n",
    "# Get files\n",
    "files = [File(f, 'f' if f.endswith('_1.fastq') else 'r', mal, mae) for f in filepaths]\n",
    "# Extract reads\n",
    "reads = [r for f in files for r in f.reads]\n",
    "# Subsample\n",
    "subreads = random.sample(reads, nreads)\n",
    "\n",
    "\"\"\"Trim\"\"\"\n",
    "# Trim each subsampled read\n",
    "for r in subreads:\n",
    "    r.trim()"
   ]
  },
  {
   "cell_type": "code",
   "execution_count": 51,
   "id": "082e9cf6-7a63-49fe-be4f-0f91972016e7",
   "metadata": {},
   "outputs": [
    {
     "data": {
      "text/html": [
       "<div>\n",
       "<style scoped>\n",
       "    .dataframe tbody tr th:only-of-type {\n",
       "        vertical-align: middle;\n",
       "    }\n",
       "\n",
       "    .dataframe tbody tr th {\n",
       "        vertical-align: top;\n",
       "    }\n",
       "\n",
       "    .dataframe thead th {\n",
       "        text-align: right;\n",
       "    }\n",
       "</style>\n",
       "<table border=\"1\" class=\"dataframe\">\n",
       "  <thead>\n",
       "    <tr style=\"text-align: right;\">\n",
       "      <th>pos</th>\n",
       "      <th>0</th>\n",
       "      <th>1</th>\n",
       "      <th>2</th>\n",
       "      <th>3</th>\n",
       "      <th>4</th>\n",
       "      <th>5</th>\n",
       "      <th>6</th>\n",
       "      <th>7</th>\n",
       "      <th>8</th>\n",
       "      <th>9</th>\n",
       "      <th>...</th>\n",
       "      <th>292</th>\n",
       "      <th>293</th>\n",
       "      <th>294</th>\n",
       "      <th>295</th>\n",
       "      <th>296</th>\n",
       "      <th>297</th>\n",
       "      <th>298</th>\n",
       "      <th>299</th>\n",
       "      <th>300</th>\n",
       "      <th>direction</th>\n",
       "    </tr>\n",
       "    <tr>\n",
       "      <th>read</th>\n",
       "      <th></th>\n",
       "      <th></th>\n",
       "      <th></th>\n",
       "      <th></th>\n",
       "      <th></th>\n",
       "      <th></th>\n",
       "      <th></th>\n",
       "      <th></th>\n",
       "      <th></th>\n",
       "      <th></th>\n",
       "      <th></th>\n",
       "      <th></th>\n",
       "      <th></th>\n",
       "      <th></th>\n",
       "      <th></th>\n",
       "      <th></th>\n",
       "      <th></th>\n",
       "      <th></th>\n",
       "      <th></th>\n",
       "      <th></th>\n",
       "      <th></th>\n",
       "    </tr>\n",
       "  </thead>\n",
       "  <tbody>\n",
       "    <tr>\n",
       "      <th>0</th>\n",
       "      <td>12.0</td>\n",
       "      <td>32.0</td>\n",
       "      <td>34.0</td>\n",
       "      <td>34.0</td>\n",
       "      <td>34.0</td>\n",
       "      <td>24.0</td>\n",
       "      <td>37.0</td>\n",
       "      <td>36.0</td>\n",
       "      <td>36.0</td>\n",
       "      <td>37.0</td>\n",
       "      <td>...</td>\n",
       "      <td>8.0</td>\n",
       "      <td>13.0</td>\n",
       "      <td>13.0</td>\n",
       "      <td>8.0</td>\n",
       "      <td>8.0</td>\n",
       "      <td>17.0</td>\n",
       "      <td>25.0</td>\n",
       "      <td>10.0</td>\n",
       "      <td>NaN</td>\n",
       "      <td>r</td>\n",
       "    </tr>\n",
       "    <tr>\n",
       "      <th>1</th>\n",
       "      <td>34.0</td>\n",
       "      <td>34.0</td>\n",
       "      <td>34.0</td>\n",
       "      <td>34.0</td>\n",
       "      <td>34.0</td>\n",
       "      <td>38.0</td>\n",
       "      <td>38.0</td>\n",
       "      <td>38.0</td>\n",
       "      <td>31.0</td>\n",
       "      <td>34.0</td>\n",
       "      <td>...</td>\n",
       "      <td>7.0</td>\n",
       "      <td>7.0</td>\n",
       "      <td>13.0</td>\n",
       "      <td>8.0</td>\n",
       "      <td>8.0</td>\n",
       "      <td>8.0</td>\n",
       "      <td>7.0</td>\n",
       "      <td>7.0</td>\n",
       "      <td>7.0</td>\n",
       "      <td>f</td>\n",
       "    </tr>\n",
       "    <tr>\n",
       "      <th>2</th>\n",
       "      <td>34.0</td>\n",
       "      <td>34.0</td>\n",
       "      <td>34.0</td>\n",
       "      <td>34.0</td>\n",
       "      <td>34.0</td>\n",
       "      <td>38.0</td>\n",
       "      <td>38.0</td>\n",
       "      <td>38.0</td>\n",
       "      <td>38.0</td>\n",
       "      <td>38.0</td>\n",
       "      <td>...</td>\n",
       "      <td>7.0</td>\n",
       "      <td>7.0</td>\n",
       "      <td>7.0</td>\n",
       "      <td>7.0</td>\n",
       "      <td>7.0</td>\n",
       "      <td>7.0</td>\n",
       "      <td>11.0</td>\n",
       "      <td>19.0</td>\n",
       "      <td>11.0</td>\n",
       "      <td>f</td>\n",
       "    </tr>\n",
       "    <tr>\n",
       "      <th>3</th>\n",
       "      <td>34.0</td>\n",
       "      <td>34.0</td>\n",
       "      <td>34.0</td>\n",
       "      <td>34.0</td>\n",
       "      <td>34.0</td>\n",
       "      <td>38.0</td>\n",
       "      <td>38.0</td>\n",
       "      <td>38.0</td>\n",
       "      <td>37.0</td>\n",
       "      <td>32.0</td>\n",
       "      <td>...</td>\n",
       "      <td>7.0</td>\n",
       "      <td>12.0</td>\n",
       "      <td>8.0</td>\n",
       "      <td>8.0</td>\n",
       "      <td>8.0</td>\n",
       "      <td>8.0</td>\n",
       "      <td>11.0</td>\n",
       "      <td>13.0</td>\n",
       "      <td>12.0</td>\n",
       "      <td>f</td>\n",
       "    </tr>\n",
       "    <tr>\n",
       "      <th>4</th>\n",
       "      <td>34.0</td>\n",
       "      <td>31.0</td>\n",
       "      <td>32.0</td>\n",
       "      <td>34.0</td>\n",
       "      <td>34.0</td>\n",
       "      <td>38.0</td>\n",
       "      <td>35.0</td>\n",
       "      <td>32.0</td>\n",
       "      <td>24.0</td>\n",
       "      <td>34.0</td>\n",
       "      <td>...</td>\n",
       "      <td>7.0</td>\n",
       "      <td>13.0</td>\n",
       "      <td>7.0</td>\n",
       "      <td>7.0</td>\n",
       "      <td>7.0</td>\n",
       "      <td>7.0</td>\n",
       "      <td>7.0</td>\n",
       "      <td>7.0</td>\n",
       "      <td>NaN</td>\n",
       "      <td>r</td>\n",
       "    </tr>\n",
       "  </tbody>\n",
       "</table>\n",
       "<p>5 rows × 302 columns</p>\n",
       "</div>"
      ],
      "text/plain": [
       "pos      0     1     2     3     4     5     6     7     8     9  ...  292  \\\n",
       "read                                                              ...        \n",
       "0     12.0  32.0  34.0  34.0  34.0  24.0  37.0  36.0  36.0  37.0  ...  8.0   \n",
       "1     34.0  34.0  34.0  34.0  34.0  38.0  38.0  38.0  31.0  34.0  ...  7.0   \n",
       "2     34.0  34.0  34.0  34.0  34.0  38.0  38.0  38.0  38.0  38.0  ...  7.0   \n",
       "3     34.0  34.0  34.0  34.0  34.0  38.0  38.0  38.0  37.0  32.0  ...  7.0   \n",
       "4     34.0  31.0  32.0  34.0  34.0  38.0  35.0  32.0  24.0  34.0  ...  7.0   \n",
       "\n",
       "pos    293   294  295  296   297   298   299   300  direction  \n",
       "read                                                           \n",
       "0     13.0  13.0  8.0  8.0  17.0  25.0  10.0   NaN          r  \n",
       "1      7.0  13.0  8.0  8.0   8.0   7.0   7.0   7.0          f  \n",
       "2      7.0   7.0  7.0  7.0   7.0  11.0  19.0  11.0          f  \n",
       "3     12.0   8.0  8.0  8.0   8.0  11.0  13.0  12.0          f  \n",
       "4     13.0   7.0  7.0  7.0   7.0   7.0   7.0   NaN          r  \n",
       "\n",
       "[5 rows x 302 columns]"
      ]
     },
     "execution_count": 51,
     "metadata": {},
     "output_type": "execute_result"
    }
   ],
   "source": [
    "\"\"\"Collect phred data\"\"\"\n",
    "max_len = max([len(r.untrimmed.record) for r in subreads])\n",
    "phreds = np.empty((nreads, max_len))\n",
    "phreds[:] = np.nan\n",
    "directions = [None] * nreads\n",
    "\n",
    "for i in range(nreads):\n",
    "    r = subreads[i]\n",
    "    # Add direction\n",
    "    directions[i] = r.file.direction\n",
    "    # Add phred\n",
    "    phred = r.untrimmed.phred\n",
    "    length = r.untrimmed.length\n",
    "    phreds[i, :length] = phred\n",
    "phred_df = pd.DataFrame(phreds)\n",
    "# Add direction\n",
    "phred_df = phred_df.join(pd.Series(directions).rename('direction')).rename_axis(index='read', columns='pos')\n",
    "phred_df.head()"
   ]
  },
  {
   "cell_type": "code",
   "execution_count": 52,
   "id": "f916a6ed-ff85-463e-ba3c-91583ed3b68a",
   "metadata": {},
   "outputs": [
    {
     "data": {
      "text/html": [
       "<div>\n",
       "<style scoped>\n",
       "    .dataframe tbody tr th:only-of-type {\n",
       "        vertical-align: middle;\n",
       "    }\n",
       "\n",
       "    .dataframe tbody tr th {\n",
       "        vertical-align: top;\n",
       "    }\n",
       "\n",
       "    .dataframe thead th {\n",
       "        text-align: right;\n",
       "    }\n",
       "</style>\n",
       "<table border=\"1\" class=\"dataframe\">\n",
       "  <thead>\n",
       "    <tr style=\"text-align: right;\">\n",
       "      <th></th>\n",
       "      <th>read</th>\n",
       "      <th>direction</th>\n",
       "      <th>pos</th>\n",
       "      <th>phred</th>\n",
       "    </tr>\n",
       "  </thead>\n",
       "  <tbody>\n",
       "    <tr>\n",
       "      <th>0</th>\n",
       "      <td>0</td>\n",
       "      <td>r</td>\n",
       "      <td>0</td>\n",
       "      <td>12.0</td>\n",
       "    </tr>\n",
       "    <tr>\n",
       "      <th>1</th>\n",
       "      <td>1</td>\n",
       "      <td>f</td>\n",
       "      <td>0</td>\n",
       "      <td>34.0</td>\n",
       "    </tr>\n",
       "    <tr>\n",
       "      <th>2</th>\n",
       "      <td>2</td>\n",
       "      <td>f</td>\n",
       "      <td>0</td>\n",
       "      <td>34.0</td>\n",
       "    </tr>\n",
       "    <tr>\n",
       "      <th>3</th>\n",
       "      <td>3</td>\n",
       "      <td>f</td>\n",
       "      <td>0</td>\n",
       "      <td>34.0</td>\n",
       "    </tr>\n",
       "    <tr>\n",
       "      <th>4</th>\n",
       "      <td>4</td>\n",
       "      <td>r</td>\n",
       "      <td>0</td>\n",
       "      <td>34.0</td>\n",
       "    </tr>\n",
       "  </tbody>\n",
       "</table>\n",
       "</div>"
      ],
      "text/plain": [
       "   read direction pos  phred\n",
       "0     0         r   0   12.0\n",
       "1     1         f   0   34.0\n",
       "2     2         f   0   34.0\n",
       "3     3         f   0   34.0\n",
       "4     4         r   0   34.0"
      ]
     },
     "execution_count": 52,
     "metadata": {},
     "output_type": "execute_result"
    }
   ],
   "source": [
    "\"\"\"Stack for boxplots\"\"\"\n",
    "# Add direction, melt\n",
    "melted = phred_df.reset_index().melt(['read', 'direction'], value_name='phred')\n",
    "melted.head()"
   ]
  },
  {
   "cell_type": "code",
   "execution_count": 87,
   "id": "3342a4cf-77d7-4c52-aef0-ae7a6196e7b8",
   "metadata": {},
   "outputs": [
    {
     "data": {
      "image/png": "[encoded data removed]",
      "text/plain": [
       "<Figure size 1080x360 with 2 Axes>"
      ]
     },
     "metadata": {
      "needs_background": "light"
     },
     "output_type": "display_data"
    }
   ],
   "source": [
    "\"\"\"Plot\"\"\"\n",
    "with sns.plotting_context('notebook', font_scale=1.25):\n",
    "    g = sns.FacetGrid(melted, col='direction', col_order=['f', 'r'], height=5, aspect=1.5)\n",
    "    g.map(sns.boxplot, 'pos', 'phred', color='.1', showfliers=False, order=range(max_len), width=.1, whis=1)\n",
    "    for ax, direction in zip(g.axes.ravel(), g.col_names):\n",
    "        data = phred_df[phred_df.direction.eq(direction)]\n",
    "        ax.plot(data.mean(), lw=1.5, label='Mean')\n",
    "        ax.plot(data.median(), lw=1.5, label='Median')\n",
    "    ax.legend(bbox_to_anchor=(1, 1))\n",
    "    g.set(xticks=range(max_len)[::20])\n",
    "    g.set_xlabels('Position')\n",
    "    g.set_ylabels('PHRED score')\n",
    "plt.show()"
   ]
  },
  {
   "cell_type": "code",
   "execution_count": 85,
   "id": "ee43f775-524e-4b62-adfa-eef17c46a523",
   "metadata": {},
   "outputs": [
    {
     "data": {
      "text/plain": [
       "array([  0.31821998, 189.53316541])"
      ]
     },
     "execution_count": 85,
     "metadata": {},
     "output_type": "execute_result"
    }
   ],
   "source": [
    "\"\"\"Get pos\"\"\"\n",
    "trimposes = np.array([r.trimpos for r in subreads if r.pass_qc])\n",
    "trimposes.mean(0)"
   ]
  },
  {
   "cell_type": "code",
   "execution_count": 84,
   "id": "16541c58-82b2-4187-9e51-38a965636c06",
   "metadata": {},
   "outputs": [
    {
     "data": {
      "image/png": "[encoded data removed]",
      "text/plain": [
       "<Figure size 432x288 with 1 Axes>"
      ]
     },
     "metadata": {
      "needs_background": "light"
     },
     "output_type": "display_data"
    }
   ],
   "source": [
    "plt.hist(trimposes[:, 0])\n",
    "plt.hist(trimposes[:, 1])\n",
    "plt.show()"
   ]
  },
  {
   "cell_type": "code",
   "execution_count": 105,
   "id": "381d6fb1-ddae-49f1-97c8-6f439a1aae7b",
   "metadata": {},
   "outputs": [],
   "source": [
    "ee = [.1, .01, .01, .3, .5]\n",
    "mal = 1"
   ]
  },
  {
   "cell_type": "code",
   "execution_count": 106,
   "id": "6db8b9e3-5876-4435-8059-21454b5e6aec",
   "metadata": {},
   "outputs": [],
   "source": [
    "def eerspace(ee, mal):\n",
    "    # Ensure np.array()\n",
    "    ee = np.array(ee)\n",
    "    # Initialize matrix\n",
    "    n_pos = len(ee)\n",
    "    eer_space = np.empty((n_pos, n_pos))\n",
    "    eer_space[:] = np.nan\n",
    "    # For each starting position\n",
    "    for start in range(n_pos - mal):\n",
    "        # Get expected error profile from this start\n",
    "        ee_start = ee[start:]\n",
    "        # Calculate the expected errors starting at this position\n",
    "        eers = ee_start.cumsum() / (np.arange(len(ee_start)) + 1)\n",
    "        # Only take the expected errors starting at the minimum acceptable length\n",
    "        eers_mal = eers[mal:]\n",
    "        # Update the search space\n",
    "        eer_space[start, (start + mal) :] = eers_mal\n",
    "    return eer_space"
   ]
  },
  {
   "cell_type": "code",
   "execution_count": 107,
   "id": "74f2b8f2-a39f-4faf-b336-cea3cec131f7",
   "metadata": {},
   "outputs": [],
   "source": [
    "# Ensure np.array()\n",
    "ee = np.array(ee)\n",
    "# Initialize matrix\n",
    "n_pos = len(ee)\n",
    "eer_space = np.empty((n_pos, n_pos))\n",
    "eer_space[:] = np.nan\n",
    "# For each starting position\n",
    "for start in range(n_pos - mal):\n",
    "    # Get expected error profile from this start\n",
    "    ee_start = ee[start-1:]\n",
    "    # Calculate the expected errors starting at this position\n",
    "    eers = ee_start.cumsum() / (np.arange(len(ee_start)) + 1)\n",
    "    # Only take the expected errors starting at the minimum acceptable length\n",
    "    eers_mal = eers[mal:]\n",
    "    # Update the search space\n",
    "    eer_space[start, (start + mal) :] = eers_mal"
   ]
  },
  {
   "cell_type": "code",
   "execution_count": 163,
   "id": "310dd3b0-c03b-435d-b080-a9dbd4723e70",
   "metadata": {},
   "outputs": [
    {
     "ename": "AttributeError",
     "evalue": "'Read' object has no attribute 'record'",
     "output_type": "error",
     "traceback": [
      "\u001b[0;31m---------------------------------------------------------------------------\u001b[0m",
      "\u001b[0;31mAttributeError\u001b[0m                            Traceback (most recent call last)",
      "\u001b[0;32m<ipython-input-163-385f21fd9c6f>\u001b[0m in \u001b[0;36m<module>\u001b[0;34m\u001b[0m\n\u001b[0;32m----> 1\u001b[0;31m \u001b[0mr\u001b[0m\u001b[0;34m.\u001b[0m\u001b[0mrecord\u001b[0m\u001b[0;34m\u001b[0m\u001b[0;34m\u001b[0m\u001b[0m\n\u001b[0m",
      "\u001b[0;31mAttributeError\u001b[0m: 'Read' object has no attribute 'record'"
     ]
    }
   ],
   "source": []
  },
  {
   "cell_type": "code",
   "execution_count": 202,
   "id": "a7589c9a-ae43-46e4-b40e-2ed48ecb8ffd",
   "metadata": {},
   "outputs": [
    {
     "name": "stdout",
     "output_type": "stream",
     "text": [
      "CPU times: user 11.9 s, sys: 48.6 ms, total: 12 s\n",
      "Wall time: 12 s\n"
     ]
    }
   ],
   "source": [
    "%%time\n",
    "oldpos = []\n",
    "for r in project.fwd_reads:\n",
    "    ee = r.untrimmed.ee\n",
    "    p = minEER(ee)\n",
    "    oldpos.append(p)"
   ]
  },
  {
   "cell_type": "code",
   "execution_count": 199,
   "id": "fe951fd4-bb0e-4bac-a5fb-9943568b00c8",
   "metadata": {},
   "outputs": [
    {
     "name": "stdout",
     "output_type": "stream",
     "text": [
      "CPU times: user 5.06 s, sys: 41.3 ms, total: 5.1 s\n",
      "Wall time: 5.11 s\n"
     ]
    }
   ],
   "source": [
    "%%time\n",
    "newpos = []\n",
    "for r in project.fwd_reads:\n",
    "    ee = r.untrimmed.ee\n",
    "    p = newminEER(ee)\n",
    "    newpos.append(p)"
   ]
  },
  {
   "cell_type": "code",
   "execution_count": 180,
   "id": "10fe4966-eea2-449d-88c1-28e30e76af88",
   "metadata": {},
   "outputs": [],
   "source": [
    "ee = np.array([1, 2, 3])"
   ]
  },
  {
   "cell_type": "code",
   "execution_count": 203,
   "id": "0ea76b86-b71c-4a29-a611-67076747182c",
   "metadata": {},
   "outputs": [
    {
     "data": {
      "text/plain": [
       "[(0, 271),\n",
       " (None, None),\n",
       " (None, None),\n",
       " (0, 217),\n",
       " (0, 222),\n",
       " (None, None),\n",
       " (0, 298),\n",
       " (1, 225),\n",
       " (80, 205),\n",
       " (0, 213)]"
      ]
     },
     "execution_count": 203,
     "metadata": {},
     "output_type": "execute_result"
    }
   ],
   "source": [
    "oldpos[:10]"
   ]
  },
  {
   "cell_type": "code",
   "execution_count": 204,
   "id": "777332b6-b1b7-48cb-8acf-9a114f62eaf0",
   "metadata": {},
   "outputs": [
    {
     "data": {
      "text/plain": [
       "[(0, 271),\n",
       " (None, None),\n",
       " (None, None),\n",
       " (0, 217),\n",
       " (0, 222),\n",
       " (None, None),\n",
       " (0, 298),\n",
       " (1, 225),\n",
       " (80, 205),\n",
       " (0, 213)]"
      ]
     },
     "execution_count": 204,
     "metadata": {},
     "output_type": "execute_result"
    }
   ],
   "source": [
    "newpos[:10]"
   ]
  },
  {
   "cell_type": "code",
   "execution_count": 21,
   "id": "e6bd5042-9c34-4262-b71f-c7a5c2425696",
   "metadata": {},
   "outputs": [
    {
     "data": {
      "text/plain": [
       "(80, 206)"
      ]
     },
     "execution_count": 21,
     "metadata": {},
     "output_type": "execute_result"
    }
   ],
   "source": [
    "minEER(project.fwd_reads[8].untrimmed.ee)"
   ]
  },
  {
   "cell_type": "code",
   "execution_count": 24,
   "id": "a1604273-545c-4be8-9eed-639adc95bd86",
   "metadata": {},
   "outputs": [
    {
     "data": {
      "text/plain": [
       "<mineer.utils.Read at 0x7ffaf9cebd00>"
      ]
     },
     "execution_count": 24,
     "metadata": {},
     "output_type": "execute_result"
    }
   ],
   "source": [
    "project.fwd_reads[8]"
   ]
  },
  {
   "cell_type": "code",
   "execution_count": 31,
   "id": "309844b9-0f18-4b55-86f2-964894080e69",
   "metadata": {},
   "outputs": [
    {
     "ename": "NameError",
     "evalue": "name 'Record' is not defined",
     "output_type": "error",
     "traceback": [
      "\u001b[0;31m---------------------------------------------------------------------------\u001b[0m",
      "\u001b[0;31mNameError\u001b[0m                                 Traceback (most recent call last)",
      "\u001b[0;32m<ipython-input-31-4a490eb64cec>\u001b[0m in \u001b[0;36m<module>\u001b[0;34m\u001b[0m\n\u001b[0;32m----> 1\u001b[0;31m \u001b[0mRecord\u001b[0m\u001b[0;34m(\u001b[0m\u001b[0mFile\u001b[0m\u001b[0;34m(\u001b[0m\u001b[0;34m'test/test_files/test_read.fastq'\u001b[0m\u001b[0;34m,\u001b[0m \u001b[0;34m'f'\u001b[0m\u001b[0;34m)\u001b[0m\u001b[0;34m.\u001b[0m\u001b[0mreads\u001b[0m\u001b[0;34m[\u001b[0m\u001b[0;36m0\u001b[0m\u001b[0;34m]\u001b[0m\u001b[0;34m)\u001b[0m\u001b[0;34m\u001b[0m\u001b[0;34m\u001b[0m\u001b[0m\n\u001b[0m",
      "\u001b[0;31mNameError\u001b[0m: name 'Record' is not defined"
     ]
    }
   ],
   "source": [
    "Record(File('test/test_files/test_read.fastq', 'f').reads[0])"
   ]
  },
  {
   "cell_type": "code",
   "execution_count": 226,
   "id": "4c744508-8d57-4d66-9bb6-308e6326671a",
   "metadata": {},
   "outputs": [],
   "source": [
    "@jit(nopython=True)\n",
    "def eerspace(ee, mal):\n",
    "    # Initialize matrix\n",
    "    n_pos = len(ee)\n",
    "    eer_space = np.empty((n_pos, n_pos))\n",
    "    eer_space[:] = np.nan\n",
    "    # Compute the cumulative sum of the expected errors\n",
    "    cumsum_ee = np.cumsum(ee)\n",
    "    # Get normalizing vector to compute EER at each position\n",
    "    norm = np.arange(n_pos) + 1\n",
    "    # Initialize first start\n",
    "    eer_space[0, mal:] = (cumsum_ee / norm)[mal:]\n",
    "\n",
    "    # For each starting position\n",
    "    for start in range(1, n_pos - mal):\n",
    "        # Get cumulative sum from this start position\n",
    "        cumsum_ee_start = cumsum_ee[start:]\n",
    "\n",
    "        # Calculate the expected errors from this start position\n",
    "        eers = (cumsum_ee_start - cumsum_ee[start - 1]) / norm[:-start]\n",
    "        # Only take the expected errors starting at the minimum acceptable length\n",
    "        eers_mal = eers[mal:]\n",
    "        # Update the search space\n",
    "        eer_space[start, (start + mal) :] = eers_mal\n",
    "    return eer_space\n",
    "\n",
    "def newminEER(ee, mal=100, mae=1e-3):\n",
    "    \"\"\"\n",
    "    Exhaustive expected error rate (EER) search for a sequence\n",
    "    Finds the longest sequence with an EER<=thresh with length>=mal\n",
    "    Inputs:\n",
    "    | ee <array>: Vector of expected errors\n",
    "    | mal <int>: Minimum acceptable length of sequence\n",
    "    | mae <float>: Minimum acceptable EER threshold\n",
    "    Outputs:\n",
    "    | {start, end}_pos: Positions where subsequence starts and ends\n",
    "    \"\"\"\n",
    "    # Ensure np.array()\n",
    "    ee = np.array(ee)\n",
    "    # Calculate expected error space\n",
    "    eer_space = eerspace(ee, mal)\n",
    "\n",
    "    \"\"\"Find max length sequence below threshold\"\"\"\n",
    "    # Filter out nans to avoid warning about trying to evaluate np.nan<thresh\n",
    "    idxs = np.array(np.where(np.isfinite(eer_space)))\n",
    "    threshed = eer_space[idxs[0], idxs[1]] <= mae\n",
    "    # If no subsequences, return None\n",
    "    if not threshed.any():\n",
    "        start_pos, end_pos = None, None\n",
    "    else:\n",
    "        # Start and end indices that satisfy threshold\n",
    "        start_ids, end_ids = idxs[:, threshed]\n",
    "        # Find longest subsequence\n",
    "        max_idx = np.argmax(end_ids - start_ids)\n",
    "        start_pos, end_pos = start_ids[max_idx], end_ids[max_idx]\n",
    "        end_pos += 1\n",
    "    return start_pos, end_pos "
   ]
  },
  {
   "cell_type": "code",
   "execution_count": 227,
   "id": "a4320f75-e01b-433c-86a7-42c1edcdf51e",
   "metadata": {},
   "outputs": [
    {
     "data": {
      "text/plain": [
       "(0, 3)"
      ]
     },
     "execution_count": 227,
     "metadata": {},
     "output_type": "execute_result"
    }
   ],
   "source": [
    "ee = [1, 2, 3]\n",
    "newminEER(ee, 0, np.inf)"
   ]
  },
  {
   "cell_type": "code",
   "execution_count": 229,
   "id": "7a471e2d-21e8-4145-8555-542af09b39b2",
   "metadata": {},
   "outputs": [
    {
     "data": {
      "text/plain": [
       "[1, 2]"
      ]
     },
     "execution_count": 229,
     "metadata": {},
     "output_type": "execute_result"
    }
   ],
   "source": [
    "ee[0: 2]"
   ]
  },
  {
   "cell_type": "code",
   "execution_count": 156,
   "id": "d01dfcbc-3621-4788-9d87-605cb3fae5a5",
   "metadata": {},
   "outputs": [
    {
     "data": {
      "text/plain": [
       "array([[       nan, 0.055     , 0.04      , 0.105     , 0.184     ],\n",
       "       [       nan,        nan, 0.01      , 0.10666667, 0.205     ],\n",
       "       [       nan,        nan,        nan, 0.155     , 0.27      ],\n",
       "       [       nan,        nan,        nan,        nan, 0.4       ],\n",
       "       [       nan,        nan,        nan,        nan,        nan]])"
      ]
     },
     "execution_count": 156,
     "metadata": {},
     "output_type": "execute_result"
    }
   ],
   "source": [
    "ee = [.1, .01, .01, .3, .5]\n",
    "mal = 1\n",
    "\n",
    "ee = np.array(ee)\n",
    "# Initialize matrix\n",
    "n_pos = len(ee)\n",
    "eer_space = np.empty((n_pos, n_pos))\n",
    "eer_space[:] = np.nan\n",
    "# Compute the cumulative sum of the expected errors\n",
    "cumsum_ee = ee.cumsum()\n",
    "# Get normalizing vector to compute EER at each position\n",
    "norm = np.arange(n_pos) + 1\n",
    "# Initialize first start\n",
    "eer_space[0, mal:] = (cumsum_ee / norm)[mal:]\n",
    "\n",
    "# For each starting position\n",
    "for start in range(1, n_pos - mal):\n",
    "    # Get cumulative sum from this start position\n",
    "    cumsum_ee_start = cumsum_ee[start:]\n",
    "\n",
    "    # Calculate the expected errors from this start position\n",
    "    eers = (cumsum_ee_start - cumsum_ee[start - 1]) / norm[:-start]\n",
    "    # Only take the expected errors starting at the minimum acceptable length\n",
    "    eers_mal = eers[mal:]\n",
    "    # Update the search space\n",
    "    eer_space[start, (start + mal) :] = eers_mal\n",
    "eer_space  "
   ]
  },
  {
   "cell_type": "code",
   "execution_count": 152,
   "id": "0b59df57-c0eb-4901-9bbb-91062e3924a6",
   "metadata": {},
   "outputs": [
    {
     "data": {
      "text/plain": [
       "array([1.5, 2. ])"
      ]
     },
     "execution_count": 152,
     "metadata": {},
     "output_type": "execute_result"
    }
   ],
   "source": [
    "(cumsum_ee / norm)[mal:]"
   ]
  },
  {
   "cell_type": "code",
   "execution_count": 131,
   "id": "90f7b07b-b53b-41d4-89e0-66a6f52fc82d",
   "metadata": {},
   "outputs": [
    {
     "data": {
      "text/plain": [
       "array([2, 5])"
      ]
     },
     "execution_count": 131,
     "metadata": {},
     "output_type": "execute_result"
    }
   ],
   "source": [
    "cumsum_ee_start - cumsum_ee[start - 1]"
   ]
  },
  {
   "cell_type": "code",
   "execution_count": 132,
   "id": "eb0dfb91-4f79-4f32-8665-2a7da68e87be",
   "metadata": {},
   "outputs": [
    {
     "data": {
      "text/plain": [
       "array([1, 2])"
      ]
     },
     "execution_count": 132,
     "metadata": {},
     "output_type": "execute_result"
    }
   ],
   "source": [
    "norm[:-start]"
   ]
  },
  {
   "cell_type": "code",
   "execution_count": 53,
   "id": "851498ea-7c58-448a-9b4d-b397c3e60858",
   "metadata": {},
   "outputs": [
    {
     "data": {
      "text/plain": [
       "array([0.01      , 0.10666667, 0.205     ])"
      ]
     },
     "execution_count": 53,
     "metadata": {},
     "output_type": "execute_result"
    }
   ],
   "source": [
    "norm"
   ]
  },
  {
   "cell_type": "code",
   "execution_count": 54,
   "id": "ecffb356-041c-4447-bec2-338328f3264a",
   "metadata": {},
   "outputs": [
    {
     "data": {
      "text/plain": [
       "3"
      ]
     },
     "execution_count": 54,
     "metadata": {},
     "output_type": "execute_result"
    }
   ],
   "source": [
    "start + mal"
   ]
  }
 ],
 "metadata": {
  "kernelspec": {
   "display_name": "Python 3",
   "language": "python",
   "name": "python3"
  },
  "language_info": {
   "codemirror_mode": {
    "name": "ipython",
    "version": 3
   },
   "file_extension": ".py",
   "mimetype": "text/x-python",
   "name": "python",
   "nbconvert_exporter": "python",
   "pygments_lexer": "ipython3",
   "version": "3.8.10"
  }
 },
 "nbformat": 4,
 "nbformat_minor": 5
}
